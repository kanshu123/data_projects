{
 "cells": [
  {
   "cell_type": "code",
   "execution_count": 19,
   "metadata": {
    "collapsed": true
   },
   "outputs": [],
   "source": [
    "from bs4 import BeautifulSoup\n",
    "from urllib.request import urlopen\n",
    "import re"
   ]
  },
  {
   "cell_type": "code",
   "execution_count": 58,
   "metadata": {
    "collapsed": false
   },
   "outputs": [
    {
     "name": "stderr",
     "output_type": "stream",
     "text": [
      "//anaconda/lib/python3.5/site-packages/bs4/__init__.py:166: UserWarning: No parser was explicitly specified, so I'm using the best available HTML parser for this system (\"lxml\"). This usually isn't a problem, but if you run this code on another system, or in a different virtual environment, it may use a different parser and behave differently.\n",
      "\n",
      "To get rid of this warning, change this:\n",
      "\n",
      " BeautifulSoup([your markup])\n",
      "\n",
      "to this:\n",
      "\n",
      " BeautifulSoup([your markup], \"lxml\")\n",
      "\n",
      "  markup_type=markup_type))\n"
     ]
    }
   ],
   "source": [
    "origin = 'Kevin Bacon'\n",
    "url = '/wiki/Kevin_Bacon'\n",
    "page = urlopen('https://en.wikipedia.org' + url)\n",
    "page = BeautifulSoup(page)"
   ]
  },
  {
   "cell_type": "code",
   "execution_count": 182,
   "metadata": {
    "collapsed": true
   },
   "outputs": [],
   "source": [
    "def six_degree(currentname,currentpage,target,linktree,depth):\n",
    "    webpage = urlopen('https://en.wikipedia.org' + page)\n",
    "    webpage = BeautifulSoup(webpage)\n",
    "    content = webpage.find('div',{'id':'mw-content-text'})\n",
    "    links = content.findAll('a',href = re.compile('^(/wiki/)'))\n",
    "    unique_pages = set()\n",
    "    newpages = []\n",
    "    for link in links:\n",
    "        item = []\n",
    "        if ('href' in link.attrs) and (link.text != ''):\n",
    "            item.append(link.text) \n",
    "            item.append(link.attrs['href'])\n",
    "            if link.text not in unique_pages:\n",
    "                unique_pages.add(link.text)\n",
    "                pages.append(tuple(item))\n",
    "    dataset = {}\n",
    "    dataset[name,page] = pages\n",
    "    l = []\n",
    "    u = []\n",
    "    for item in dataset[name,page]:\n",
    "        l.append(item[0])\n",
    "        u.append(item[1])\n",
    "    if target in l:\n",
    "        print ('FOUND '+target)\n",
    "    else:\n",
    "        for item in u:\n",
    "            print (item)\n",
    "            page = item\n",
    "            name = l[u.index(item)]   \n",
    "            six_degree(name,page,target)"
   ]
  },
  {
   "cell_type": "code",
   "execution_count": 184,
   "metadata": {
    "collapsed": false,
    "scrolled": false
   },
   "outputs": [
    {
     "name": "stdout",
     "output_type": "stream",
     "text": [
      "FOUND Fox\n"
     ]
    },
    {
     "name": "stderr",
     "output_type": "stream",
     "text": [
      "//anaconda/lib/python3.5/site-packages/bs4/__init__.py:166: UserWarning: No parser was explicitly specified, so I'm using the best available HTML parser for this system (\"lxml\"). This usually isn't a problem, but if you run this code on another system, or in a different virtual environment, it may use a different parser and behave differently.\n",
      "\n",
      "To get rid of this warning, change this:\n",
      "\n",
      " BeautifulSoup([your markup])\n",
      "\n",
      "to this:\n",
      "\n",
      " BeautifulSoup([your markup], \"lxml\")\n",
      "\n",
      "  markup_type=markup_type))\n"
     ]
    }
   ],
   "source": [
    "six_degree('Kevin Bacon','/wiki/Kevin_Bacon','Fox')"
   ]
  },
  {
   "cell_type": "code",
   "execution_count": 59,
   "metadata": {
    "collapsed": false
   },
   "outputs": [],
   "source": [
    "#find all links\n",
    "content = page.find('div',{'id':'mw-content-text'})"
   ]
  },
  {
   "cell_type": "code",
   "execution_count": 136,
   "metadata": {
    "collapsed": false
   },
   "outputs": [],
   "source": [
    "l = content.findAll('a', href = re.compile('^(/wiki/)'))"
   ]
  },
  {
   "cell_type": "markdown",
   "metadata": {},
   "source": [
    "unique_pages = set()\n",
    "pages = []\n",
    "for link in l:\n",
    "    item = {}\n",
    "    if ('href' in link.attrs) and (link.text!=''):\n",
    "        item[link.text] = link.attrs['href']\n",
    "        if link.text not in unique_pages:\n",
    "            unique_pages.add(link.text)\n",
    "            pages.append(item)"
   ]
  },
  {
   "cell_type": "code",
   "execution_count": 137,
   "metadata": {
    "collapsed": false
   },
   "outputs": [
    {
     "data": {
      "text/plain": [
       "<a href=\"/wiki/Kyra_Sedgwick\" title=\"Kyra Sedgwick\">Kyra Sedgwick</a>"
      ]
     },
     "execution_count": 137,
     "metadata": {},
     "output_type": "execute_result"
    }
   ],
   "source": [
    "l[9]"
   ]
  },
  {
   "cell_type": "code",
   "execution_count": 147,
   "metadata": {
    "collapsed": false
   },
   "outputs": [],
   "source": [
    "unique_pages = set()\n",
    "pages = []\n",
    "for link in l:\n",
    "    item = []\n",
    "    if ('href' in link.attrs) and (link.text!=''):\n",
    "        item.append(link.text) \n",
    "        item.append(link.attrs['href'])\n",
    "        if link.text not in unique_pages:\n",
    "            unique_pages.add(link.text)\n",
    "            pages.append(tuple(item))"
   ]
  },
  {
   "cell_type": "code",
   "execution_count": 163,
   "metadata": {
    "collapsed": false
   },
   "outputs": [
    {
     "data": {
      "text/plain": [
       "324"
      ]
     },
     "execution_count": 163,
     "metadata": {},
     "output_type": "execute_result"
    }
   ],
   "source": [
    "len(pages)"
   ]
  },
  {
   "cell_type": "code",
   "execution_count": 149,
   "metadata": {
    "collapsed": false
   },
   "outputs": [],
   "source": [
    "dataset = {}\n",
    "dataset[origin,url] = pages"
   ]
  },
  {
   "cell_type": "code",
   "execution_count": 167,
   "metadata": {
    "collapsed": false
   },
   "outputs": [
    {
     "data": {
      "text/plain": [
       "'/wiki/Kevin_Bacon_(disambiguation)'"
      ]
     },
     "execution_count": 167,
     "metadata": {},
     "output_type": "execute_result"
    }
   ],
   "source": [
    "dataset[origin,url][0][1]"
   ]
  },
  {
   "cell_type": "code",
   "execution_count": 164,
   "metadata": {
    "collapsed": false
   },
   "outputs": [
    {
     "data": {
      "text/plain": [
       "'Sosie Bacon'"
      ]
     },
     "execution_count": 164,
     "metadata": {},
     "output_type": "execute_result"
    }
   ],
   "source": [
    "list(dataset.values())[0][9][0]"
   ]
  },
  {
   "cell_type": "code",
   "execution_count": 173,
   "metadata": {
    "collapsed": false
   },
   "outputs": [],
   "source": [
    "target = 'A'\n",
    "l = []\n",
    "u = []\n",
    "for item in dataset[origin,url]:\n",
    "    l.append(item[0])\n",
    "    u.append(item[1])\n",
    "if target in l:\n",
    "    print ('FOUND '+target)\n",
    "else:\n",
    "    for item in u:\n",
    "        url = item\n",
    "        origin = l[u.index(item)]       "
   ]
  },
  {
   "cell_type": "code",
   "execution_count": 175,
   "metadata": {
    "collapsed": false
   },
   "outputs": [
    {
     "data": {
      "text/plain": [
       "'MusicBrainz'"
      ]
     },
     "execution_count": 175,
     "metadata": {},
     "output_type": "execute_result"
    }
   ],
   "source": [
    "origin"
   ]
  },
  {
   "cell_type": "code",
   "execution_count": 117,
   "metadata": {
    "collapsed": false
   },
   "outputs": [
    {
     "name": "stdout",
     "output_type": "stream",
     "text": [
      "['Kevin Bacon (disambiguation)']\n",
      "['San Diego Comic-Con']\n",
      "['Philadelphia']\n",
      "['Pennsylvania']\n",
      "['Actor']\n",
      "['director']\n",
      "['producer']\n",
      "['musician']\n",
      "['Kyra Sedgwick']\n",
      "['Sosie Bacon']\n",
      "['Michael Bacon']\n",
      "['Footloose']\n",
      "['JFK']\n",
      "['A Few Good Men']\n",
      "['Apollo 13']\n",
      "['Mystic River']\n",
      "['Fox']\n",
      "['The Following']\n",
      "['Golden Globe Award']\n",
      "['Screen Actors Guild Awards']\n",
      "['Primetime Emmy Award']\n",
      "['The Guardian']\n",
      "['Academy Award']\n",
      "['Hollywood Walk of Fame']\n",
      "['social networks']\n",
      "['Six Degrees of Kevin Bacon']\n",
      "['SixDegrees.org']\n",
      "['Edmund Norwood Bacon']\n",
      "[\"Pennsylvania Governor's School for the Arts\"]\n",
      "['Bucknell University']\n",
      "['Glory Van Scott']\n",
      "['Kevin Bacon filmography']\n",
      "['New York City']\n",
      "['Circle in the Square Theater School']\n",
      "['Nancy Mills']\n",
      "['Cosmopolitan']\n",
      "['fraternity']\n",
      "[\"National Lampoon's Animal House\"]\n",
      "['Search for Tomorrow']\n",
      "['Guiding Light']\n",
      "['Friday the 13th']\n",
      "['Phoenix Theater']\n",
      "['Flux']\n",
      "['Second Stage Theatre']\n",
      "['Obie Award']\n",
      "['Forty Deuce']\n",
      "['Slab Boys']\n",
      "['Sean Penn']\n",
      "['Val Kilmer']\n",
      "['Barry Levinson']\n",
      "['Diner']\n",
      "['Steve Guttenberg']\n",
      "['Daniel Stern']\n",
      "['Mickey Rourke']\n",
      "['Tim Daly']\n",
      "['Ellen Barkin']\n",
      "['James Dean']\n",
      "['Rebel Without a Cause']\n",
      "['Mickey Rooney']\n",
      "['Judy Garland']\n",
      "['People']\n",
      "['typecasting']\n",
      "['John Hughes']\n",
      "[\"She's Having a Baby\"]\n",
      "['The Big Picture']\n",
      "['Tremors']\n",
      "['Joel Schumacher']\n",
      "['Flatliners']\n",
      "['Elizabeth Perkins']\n",
      "['He Said, She Said']\n",
      "['The New York Times']\n",
      "['Oliver Stone']\n",
      "['Michael Greif']\n",
      "['Golden Globe']\n",
      "['The River Wild']\n",
      "['Meryl Streep']\n",
      "['Murder in the First']\n",
      "['blockbuster']\n",
      "['Sleepers']\n",
      "['Picture Perfect']\n",
      "['Losing Chase']\n",
      "['Digging to China']\n",
      "['payola']\n",
      "['Telling Lies in America']\n",
      "['Wild Things']\n",
      "['Stir of Echoes']\n",
      "['David Koepp']\n",
      "['Taking Chance']\n",
      "['Paul Verhoeven']\n",
      "['Hollow Man']\n",
      "['Colin Firth']\n",
      "['Rachel Blanchard']\n",
      "['ménage à trois']\n",
      "['Where the Truth Lies']\n",
      "['Atom Egoyan']\n",
      "['MPAA']\n",
      "['NC-17']\n",
      "['pedophile']\n",
      "['The Woodsman']\n",
      "['2004']\n",
      "['HBO Films']\n",
      "['Michael Strobl']\n",
      "['Desert Storm']\n",
      "['Screen Actors Guild Award for Outstanding Performance by a Male Actor in a Miniseries or Television Movie']\n",
      "['Matthew Vaughn']\n",
      "['X-Men: First Class']\n",
      "['Sebastian Shaw']\n",
      "['Dustin Lance Black']\n",
      "['8']\n",
      "['federal trial']\n",
      "['Prop 8 ban']\n",
      "['Charles J. Cooper']\n",
      "['Wilshire Ebell Theatre']\n",
      "['YouTube']\n",
      "['American Foundation for Equal Rights']\n",
      "['Saturn Award for Best Actor on Television']\n",
      "['Huffington Post']\n",
      "['citation needed']\n",
      "['Tremors franchise']\n",
      "['Tremors 5: Bloodline']\n",
      "['EE mobile network']\n",
      "['egg']\n",
      "['PBS']\n",
      "['Lanford Wilson']\n",
      "['Lemon Sky']\n",
      "['Pyrates']\n",
      "['Loverboy']\n",
      "['Sosie Ruth']\n",
      "['Upper West Side']\n",
      "['Manhattan']\n",
      "['Tracy Pollan']\n",
      "['The Times']\n",
      "['will.i.am']\n",
      "['\"It\\'s a New Day\"']\n",
      "['Barack Obama']\n",
      "['Ponzi scheme']\n",
      "['Bernard Madoff']\n",
      "['Henry Louis Gates']\n",
      "['trivia']\n",
      "['screen']\n",
      "['six degrees of separation']\n",
      "['meme']\n",
      "['Bacon Index']\n",
      "['Internet Movie Database']\n",
      "['Paul Erdős']\n",
      "['Erdős number']\n",
      "['Erdős–Bacon number']\n",
      "['The Bacon Brothers']\n",
      "['Michael']\n",
      "['albums']\n",
      "['Golden Globe Awards']\n",
      "['Best Supporting Actor – Motion Picture']\n",
      "['Broadcast Film Critics Association Awards']\n",
      "['Best Actor']\n",
      "['Outstanding Performance by a Cast in a Motion Picture']\n",
      "['Outstanding Performance by a Male Actor in a Supporting Role']\n",
      "['MTV Movie Awards']\n",
      "['Best Villain']\n",
      "['Boston Society of Film Critics Awards']\n",
      "['Best Cast']\n",
      "['Satellite Awards']\n",
      "['Best Actor – Motion Picture Drama']\n",
      "['Teen Choice Awards']\n",
      "['Choice Movie Sleazebag']\n",
      "['Beauty Shop']\n",
      "['Primetime Emmy Awards']\n",
      "['Outstanding Lead Actor in a Miniseries or a Movie']\n",
      "['Best Actor – Miniseries or Television Film']\n",
      "['Frost/Nixon']\n",
      "['Outstanding Performance by a Male Actor in a Miniseries or Television Movie']\n",
      "['Choice Movie Villain']\n",
      "['Saturn Awards']\n",
      "['Best Actor on Television']\n",
      "[\"People's Choice Awards\"]\n",
      "['Favorite Dramatic TV Actor']\n",
      "['The Austin Chronicle']\n",
      "['Access Hollywood']\n",
      "['Internet Broadway Database']\n",
      "['Internet Off-Broadway Database']\n",
      "['AllMovie']\n",
      "['WorldCat']\n",
      "['v']\n",
      "['t']\n",
      "[\"Critics' Choice Movie Award for Best Actor\"]\n",
      "['Geoffrey Rush']\n",
      "['Jack Nicholson']\n",
      "['Ian McKellen']\n",
      "['Russell Crowe']\n",
      "['Daniel Day-Lewis']\n",
      "['Jamie Foxx']\n",
      "['Philip Seymour Hoffman']\n",
      "['Forest Whitaker']\n",
      "['Jeff Bridges']\n",
      "['George Clooney']\n",
      "['Matthew McConaughey']\n",
      "['Michael Keaton']\n",
      "['Leonardo DiCaprio']\n",
      "['Golden Globe Award for Best Actor – Miniseries or Television Film']\n",
      "['Anthony Andrews']\n",
      "['Richard Chamberlain']\n",
      "['Ted Danson']\n",
      "['Dustin Hoffman']\n",
      "['James Woods']\n",
      "['Randy Quaid']\n",
      "['Michael Caine']\n",
      "['Stacy Keach']\n",
      "['Robert Duvall']\n",
      "['James Garner']\n",
      "['Beau Bridges']\n",
      "['Raúl Juliá']\n",
      "['Gary Sinise']\n",
      "['Alan Rickman']\n",
      "['Ving Rhames']\n",
      "['Stanley Tucci']\n",
      "['Jack Lemmon']\n",
      "['Brian Dennehy']\n",
      "['James Franco']\n",
      "['Albert Finney']\n",
      "['Al Pacino']\n",
      "['Jonathan Rhys Meyers']\n",
      "['Bill Nighy']\n",
      "['Jim Broadbent']\n",
      "['Paul Giamatti']\n",
      "['Idris Elba']\n",
      "['Kevin Costner']\n",
      "['Michael Douglas']\n",
      "['Billy Bob Thornton']\n",
      "['Oscar Isaac']\n",
      "['Kyle Chandler']\n",
      "['Steven Weber']\n",
      "['Richard Dean Anderson']\n",
      "['David Boreanaz']\n",
      "['Robert Patrick']\n",
      "['Ben Browder']\n",
      "['Matthew Fox']\n",
      "['Michael C. Hall']\n",
      "['Edward James Olmos']\n",
      "['Josh Holloway']\n",
      "['Stephen Moyer']\n",
      "['Bryan Cranston']\n",
      "['Mads Mikkelsen']\n",
      "['Hugh Dancy']\n",
      "['Andrew Lincoln']\n",
      "['Bruce Campbell']\n",
      "['Christopher Reeve']\n",
      "['Ben Kingsley']\n",
      "['William H. Macy']\n",
      "['Paul Newman']\n",
      "['Jeremy Irons']\n",
      "['Kevin Kline']\n",
      "['Mark Ruffalo']\n",
      "['Screen Actors Guild Award\\nfor Outstanding Performance by a Cast in a Motion Picture']\n",
      "['Tom Hanks']\n",
      "['Ed Harris']\n",
      "['Bill Paxton']\n",
      "['Kathleen Quinlan']\n",
      "['The Birdcage']\n",
      "['Hank Azaria']\n",
      "['Christine Baranski']\n",
      "['Dan Futterman']\n",
      "['Gene Hackman']\n",
      "['Nathan Lane']\n",
      "['Dianne Wiest']\n",
      "['Robin Williams']\n",
      "['The Full Monty']\n",
      "['Mark Addy']\n",
      "['Paul Barber']\n",
      "['Robert Carlyle']\n",
      "['Steve Huison']\n",
      "['Bruce Jones']\n",
      "['Lesley Sharp']\n",
      "['William Snape']\n",
      "['Hugo Speer']\n",
      "['Tom Wilkinson']\n",
      "['Emily Woof']\n",
      "['Shakespeare in Love']\n",
      "['Ben Affleck']\n",
      "['Simon Callow']\n",
      "['Jim Carter']\n",
      "['Martin Clunes']\n",
      "['Judi Dench']\n",
      "['Joseph Fiennes']\n",
      "['Gwyneth Paltrow']\n",
      "['Antony Sher']\n",
      "['Imelda Staunton']\n",
      "['American Beauty']\n",
      "['Annette Bening']\n",
      "['Wes Bentley']\n",
      "['Thora Birch']\n",
      "['Chris Cooper']\n",
      "['Peter Gallagher']\n",
      "['Allison Janney']\n",
      "['Kevin Spacey']\n",
      "['Mena Suvari']\n",
      "['Traffic']\n",
      "['Steven Bauer']\n",
      "['Benjamin Bratt']\n",
      "['James Brolin']\n",
      "['Don Cheadle']\n",
      "['Erika Christensen']\n",
      "['Clifton Collins Jr.']\n",
      "['Benicio del Toro']\n",
      "['Miguel Ferrer']\n",
      "['Topher Grace']\n",
      "['Luis Guzmán']\n",
      "['Amy Irving']\n",
      "['Tomas Milian']\n",
      "['D. W. Moffett']\n",
      "['Dennis Quaid']\n",
      "['Peter Riegert']\n",
      "['Jacob Vargas']\n",
      "['Catherine Zeta-Jones']\n",
      "['Complete list']\n",
      "['(1995–2000)']\n",
      "['(2001–2010)']\n",
      "['(2011–2020)']\n",
      "['Authority control']\n",
      "['VIAF']\n",
      "['LCCN']\n",
      "['ISNI']\n",
      "['GND']\n",
      "['SUDOC']\n",
      "['BNF']\n",
      "['MusicBrainz']\n"
     ]
    }
   ],
   "source": [
    "for item in dataset[origin,url]:\n",
    "    print (list(item.keys()))"
   ]
  },
  {
   "cell_type": "code",
   "execution_count": 194,
   "metadata": {
    "collapsed": false
   },
   "outputs": [],
   "source": [
    "unique_pages = set()\n",
    "def getLinks(currentpage,depth):\n",
    "    if depth>4:\n",
    "        return;\n",
    "    webpage = urlopen('https://en.wikipedia.org'+currentpage)\n",
    "    webpage = BeautifulSoup(webpage)\n",
    "    content = webpage.find('div',{'id':'mw-content-text'})\n",
    "    links = content.findAll('a', href = re.compile('^(/wiki/)((?!:).)*$'))\n",
    "    global unique_pages\n",
    "    for link in links:\n",
    "        recursion = 0\n",
    "        item = []\n",
    "        if ('href' in link.attrs) and (link.text !=''):\n",
    "            item.append(link.text)\n",
    "            item.append(link.attrs['href'])\n",
    "            if link.text not in unique_pages:\n",
    "                newpage = link.attrs['href']\n",
    "                unique_pages.add(newpage)\n",
    "                getLinks(newpage,depth+1)"
   ]
  },
  {
   "cell_type": "code",
   "execution_count": 202,
   "metadata": {
    "collapsed": false,
    "scrolled": true
   },
   "outputs": [
    {
     "name": "stderr",
     "output_type": "stream",
     "text": [
      "//anaconda/lib/python3.5/site-packages/bs4/__init__.py:166: UserWarning: No parser was explicitly specified, so I'm using the best available HTML parser for this system (\"lxml\"). This usually isn't a problem, but if you run this code on another system, or in a different virtual environment, it may use a different parser and behave differently.\n",
      "\n",
      "To get rid of this warning, change this:\n",
      "\n",
      " BeautifulSoup([your markup])\n",
      "\n",
      "to this:\n",
      "\n",
      " BeautifulSoup([your markup], \"lxml\")\n",
      "\n",
      "  markup_type=markup_type))\n"
     ]
    },
    {
     "ename": "KeyboardInterrupt",
     "evalue": "",
     "output_type": "error",
     "traceback": [
      "\u001b[0;31m---------------------------------------------------------------------------\u001b[0m",
      "\u001b[0;31mKeyboardInterrupt\u001b[0m                         Traceback (most recent call last)",
      "\u001b[0;32m<ipython-input-202-1c80c28dde6e>\u001b[0m in \u001b[0;36m<module>\u001b[0;34m()\u001b[0m\n\u001b[0;32m----> 1\u001b[0;31m \u001b[0mgetLinks\u001b[0m\u001b[0;34m(\u001b[0m\u001b[0;34m'/wiki/becon'\u001b[0m\u001b[0;34m,\u001b[0m\u001b[0;36m0\u001b[0m\u001b[0;34m)\u001b[0m\u001b[0;34m\u001b[0m\u001b[0m\n\u001b[0m",
      "\u001b[0;32m<ipython-input-194-389f9a5bafd7>\u001b[0m in \u001b[0;36mgetLinks\u001b[0;34m(currentpage, depth)\u001b[0m\n\u001b[1;32m     17\u001b[0m                 \u001b[0mnewpage\u001b[0m \u001b[0;34m=\u001b[0m \u001b[0mlink\u001b[0m\u001b[0;34m.\u001b[0m\u001b[0mattrs\u001b[0m\u001b[0;34m[\u001b[0m\u001b[0;34m'href'\u001b[0m\u001b[0;34m]\u001b[0m\u001b[0;34m\u001b[0m\u001b[0m\n\u001b[1;32m     18\u001b[0m                 \u001b[0munique_pages\u001b[0m\u001b[0;34m.\u001b[0m\u001b[0madd\u001b[0m\u001b[0;34m(\u001b[0m\u001b[0mnewpage\u001b[0m\u001b[0;34m)\u001b[0m\u001b[0;34m\u001b[0m\u001b[0m\n\u001b[0;32m---> 19\u001b[0;31m                 \u001b[0mgetLinks\u001b[0m\u001b[0;34m(\u001b[0m\u001b[0mnewpage\u001b[0m\u001b[0;34m,\u001b[0m\u001b[0mdepth\u001b[0m\u001b[0;34m+\u001b[0m\u001b[0;36m1\u001b[0m\u001b[0;34m)\u001b[0m\u001b[0;34m\u001b[0m\u001b[0m\n\u001b[0m",
      "\u001b[0;32m<ipython-input-194-389f9a5bafd7>\u001b[0m in \u001b[0;36mgetLinks\u001b[0;34m(currentpage, depth)\u001b[0m\n\u001b[1;32m     17\u001b[0m                 \u001b[0mnewpage\u001b[0m \u001b[0;34m=\u001b[0m \u001b[0mlink\u001b[0m\u001b[0;34m.\u001b[0m\u001b[0mattrs\u001b[0m\u001b[0;34m[\u001b[0m\u001b[0;34m'href'\u001b[0m\u001b[0;34m]\u001b[0m\u001b[0;34m\u001b[0m\u001b[0m\n\u001b[1;32m     18\u001b[0m                 \u001b[0munique_pages\u001b[0m\u001b[0;34m.\u001b[0m\u001b[0madd\u001b[0m\u001b[0;34m(\u001b[0m\u001b[0mnewpage\u001b[0m\u001b[0;34m)\u001b[0m\u001b[0;34m\u001b[0m\u001b[0m\n\u001b[0;32m---> 19\u001b[0;31m                 \u001b[0mgetLinks\u001b[0m\u001b[0;34m(\u001b[0m\u001b[0mnewpage\u001b[0m\u001b[0;34m,\u001b[0m\u001b[0mdepth\u001b[0m\u001b[0;34m+\u001b[0m\u001b[0;36m1\u001b[0m\u001b[0;34m)\u001b[0m\u001b[0;34m\u001b[0m\u001b[0m\n\u001b[0m",
      "\u001b[0;32m<ipython-input-194-389f9a5bafd7>\u001b[0m in \u001b[0;36mgetLinks\u001b[0;34m(currentpage, depth)\u001b[0m\n\u001b[1;32m     17\u001b[0m                 \u001b[0mnewpage\u001b[0m \u001b[0;34m=\u001b[0m \u001b[0mlink\u001b[0m\u001b[0;34m.\u001b[0m\u001b[0mattrs\u001b[0m\u001b[0;34m[\u001b[0m\u001b[0;34m'href'\u001b[0m\u001b[0;34m]\u001b[0m\u001b[0;34m\u001b[0m\u001b[0m\n\u001b[1;32m     18\u001b[0m                 \u001b[0munique_pages\u001b[0m\u001b[0;34m.\u001b[0m\u001b[0madd\u001b[0m\u001b[0;34m(\u001b[0m\u001b[0mnewpage\u001b[0m\u001b[0;34m)\u001b[0m\u001b[0;34m\u001b[0m\u001b[0m\n\u001b[0;32m---> 19\u001b[0;31m                 \u001b[0mgetLinks\u001b[0m\u001b[0;34m(\u001b[0m\u001b[0mnewpage\u001b[0m\u001b[0;34m,\u001b[0m\u001b[0mdepth\u001b[0m\u001b[0;34m+\u001b[0m\u001b[0;36m1\u001b[0m\u001b[0;34m)\u001b[0m\u001b[0;34m\u001b[0m\u001b[0m\n\u001b[0m",
      "\u001b[0;32m<ipython-input-194-389f9a5bafd7>\u001b[0m in \u001b[0;36mgetLinks\u001b[0;34m(currentpage, depth)\u001b[0m\n\u001b[1;32m     17\u001b[0m                 \u001b[0mnewpage\u001b[0m \u001b[0;34m=\u001b[0m \u001b[0mlink\u001b[0m\u001b[0;34m.\u001b[0m\u001b[0mattrs\u001b[0m\u001b[0;34m[\u001b[0m\u001b[0;34m'href'\u001b[0m\u001b[0;34m]\u001b[0m\u001b[0;34m\u001b[0m\u001b[0m\n\u001b[1;32m     18\u001b[0m                 \u001b[0munique_pages\u001b[0m\u001b[0;34m.\u001b[0m\u001b[0madd\u001b[0m\u001b[0;34m(\u001b[0m\u001b[0mnewpage\u001b[0m\u001b[0;34m)\u001b[0m\u001b[0;34m\u001b[0m\u001b[0m\n\u001b[0;32m---> 19\u001b[0;31m                 \u001b[0mgetLinks\u001b[0m\u001b[0;34m(\u001b[0m\u001b[0mnewpage\u001b[0m\u001b[0;34m,\u001b[0m\u001b[0mdepth\u001b[0m\u001b[0;34m+\u001b[0m\u001b[0;36m1\u001b[0m\u001b[0;34m)\u001b[0m\u001b[0;34m\u001b[0m\u001b[0m\n\u001b[0m",
      "\u001b[0;32m<ipython-input-194-389f9a5bafd7>\u001b[0m in \u001b[0;36mgetLinks\u001b[0;34m(currentpage, depth)\u001b[0m\n\u001b[1;32m      4\u001b[0m         \u001b[0;32mreturn\u001b[0m\u001b[0;34m;\u001b[0m\u001b[0;34m\u001b[0m\u001b[0m\n\u001b[1;32m      5\u001b[0m     \u001b[0mwebpage\u001b[0m \u001b[0;34m=\u001b[0m \u001b[0murlopen\u001b[0m\u001b[0;34m(\u001b[0m\u001b[0;34m'https://en.wikipedia.org'\u001b[0m\u001b[0;34m+\u001b[0m\u001b[0mcurrentpage\u001b[0m\u001b[0;34m)\u001b[0m\u001b[0;34m\u001b[0m\u001b[0m\n\u001b[0;32m----> 6\u001b[0;31m     \u001b[0mwebpage\u001b[0m \u001b[0;34m=\u001b[0m \u001b[0mBeautifulSoup\u001b[0m\u001b[0;34m(\u001b[0m\u001b[0mwebpage\u001b[0m\u001b[0;34m)\u001b[0m\u001b[0;34m\u001b[0m\u001b[0m\n\u001b[0m\u001b[1;32m      7\u001b[0m     \u001b[0mcontent\u001b[0m \u001b[0;34m=\u001b[0m \u001b[0mwebpage\u001b[0m\u001b[0;34m.\u001b[0m\u001b[0mfind\u001b[0m\u001b[0;34m(\u001b[0m\u001b[0;34m'div'\u001b[0m\u001b[0;34m,\u001b[0m\u001b[0;34m{\u001b[0m\u001b[0;34m'id'\u001b[0m\u001b[0;34m:\u001b[0m\u001b[0;34m'mw-content-text'\u001b[0m\u001b[0;34m}\u001b[0m\u001b[0;34m)\u001b[0m\u001b[0;34m\u001b[0m\u001b[0m\n\u001b[1;32m      8\u001b[0m     \u001b[0mlinks\u001b[0m \u001b[0;34m=\u001b[0m \u001b[0mcontent\u001b[0m\u001b[0;34m.\u001b[0m\u001b[0mfindAll\u001b[0m\u001b[0;34m(\u001b[0m\u001b[0;34m'a'\u001b[0m\u001b[0;34m,\u001b[0m \u001b[0mhref\u001b[0m \u001b[0;34m=\u001b[0m \u001b[0mre\u001b[0m\u001b[0;34m.\u001b[0m\u001b[0mcompile\u001b[0m\u001b[0;34m(\u001b[0m\u001b[0;34m'^(/wiki/)((?!:).)*$'\u001b[0m\u001b[0;34m)\u001b[0m\u001b[0;34m)\u001b[0m\u001b[0;34m\u001b[0m\u001b[0m\n",
      "\u001b[0;32m//anaconda/lib/python3.5/site-packages/bs4/__init__.py\u001b[0m in \u001b[0;36m__init__\u001b[0;34m(self, markup, features, builder, parse_only, from_encoding, exclude_encodings, **kwargs)\u001b[0m\n\u001b[1;32m    213\u001b[0m             \u001b[0mself\u001b[0m\u001b[0;34m.\u001b[0m\u001b[0mreset\u001b[0m\u001b[0;34m(\u001b[0m\u001b[0;34m)\u001b[0m\u001b[0;34m\u001b[0m\u001b[0m\n\u001b[1;32m    214\u001b[0m             \u001b[0;32mtry\u001b[0m\u001b[0;34m:\u001b[0m\u001b[0;34m\u001b[0m\u001b[0m\n\u001b[0;32m--> 215\u001b[0;31m                 \u001b[0mself\u001b[0m\u001b[0;34m.\u001b[0m\u001b[0m_feed\u001b[0m\u001b[0;34m(\u001b[0m\u001b[0;34m)\u001b[0m\u001b[0;34m\u001b[0m\u001b[0m\n\u001b[0m\u001b[1;32m    216\u001b[0m                 \u001b[0;32mbreak\u001b[0m\u001b[0;34m\u001b[0m\u001b[0m\n\u001b[1;32m    217\u001b[0m             \u001b[0;32mexcept\u001b[0m \u001b[0mParserRejectedMarkup\u001b[0m\u001b[0;34m:\u001b[0m\u001b[0;34m\u001b[0m\u001b[0m\n",
      "\u001b[0;32m//anaconda/lib/python3.5/site-packages/bs4/__init__.py\u001b[0m in \u001b[0;36m_feed\u001b[0;34m(self)\u001b[0m\n\u001b[1;32m    237\u001b[0m         \u001b[0mself\u001b[0m\u001b[0;34m.\u001b[0m\u001b[0mbuilder\u001b[0m\u001b[0;34m.\u001b[0m\u001b[0mreset\u001b[0m\u001b[0;34m(\u001b[0m\u001b[0;34m)\u001b[0m\u001b[0;34m\u001b[0m\u001b[0m\n\u001b[1;32m    238\u001b[0m \u001b[0;34m\u001b[0m\u001b[0m\n\u001b[0;32m--> 239\u001b[0;31m         \u001b[0mself\u001b[0m\u001b[0;34m.\u001b[0m\u001b[0mbuilder\u001b[0m\u001b[0;34m.\u001b[0m\u001b[0mfeed\u001b[0m\u001b[0;34m(\u001b[0m\u001b[0mself\u001b[0m\u001b[0;34m.\u001b[0m\u001b[0mmarkup\u001b[0m\u001b[0;34m)\u001b[0m\u001b[0;34m\u001b[0m\u001b[0m\n\u001b[0m\u001b[1;32m    240\u001b[0m         \u001b[0;31m# Close out any unfinished strings and close all the open tags.\u001b[0m\u001b[0;34m\u001b[0m\u001b[0;34m\u001b[0m\u001b[0m\n\u001b[1;32m    241\u001b[0m         \u001b[0mself\u001b[0m\u001b[0;34m.\u001b[0m\u001b[0mendData\u001b[0m\u001b[0;34m(\u001b[0m\u001b[0;34m)\u001b[0m\u001b[0;34m\u001b[0m\u001b[0m\n",
      "\u001b[0;32m//anaconda/lib/python3.5/site-packages/bs4/builder/_lxml.py\u001b[0m in \u001b[0;36mfeed\u001b[0;34m(self, markup)\u001b[0m\n\u001b[1;32m    238\u001b[0m         \u001b[0;32mtry\u001b[0m\u001b[0;34m:\u001b[0m\u001b[0;34m\u001b[0m\u001b[0m\n\u001b[1;32m    239\u001b[0m             \u001b[0mself\u001b[0m\u001b[0;34m.\u001b[0m\u001b[0mparser\u001b[0m \u001b[0;34m=\u001b[0m \u001b[0mself\u001b[0m\u001b[0;34m.\u001b[0m\u001b[0mparser_for\u001b[0m\u001b[0;34m(\u001b[0m\u001b[0mencoding\u001b[0m\u001b[0;34m)\u001b[0m\u001b[0;34m\u001b[0m\u001b[0m\n\u001b[0;32m--> 240\u001b[0;31m             \u001b[0mself\u001b[0m\u001b[0;34m.\u001b[0m\u001b[0mparser\u001b[0m\u001b[0;34m.\u001b[0m\u001b[0mfeed\u001b[0m\u001b[0;34m(\u001b[0m\u001b[0mmarkup\u001b[0m\u001b[0;34m)\u001b[0m\u001b[0;34m\u001b[0m\u001b[0m\n\u001b[0m\u001b[1;32m    241\u001b[0m             \u001b[0mself\u001b[0m\u001b[0;34m.\u001b[0m\u001b[0mparser\u001b[0m\u001b[0;34m.\u001b[0m\u001b[0mclose\u001b[0m\u001b[0;34m(\u001b[0m\u001b[0;34m)\u001b[0m\u001b[0;34m\u001b[0m\u001b[0m\n\u001b[1;32m    242\u001b[0m         \u001b[0;32mexcept\u001b[0m \u001b[0;34m(\u001b[0m\u001b[0mUnicodeDecodeError\u001b[0m\u001b[0;34m,\u001b[0m \u001b[0mLookupError\u001b[0m\u001b[0;34m,\u001b[0m \u001b[0metree\u001b[0m\u001b[0;34m.\u001b[0m\u001b[0mParserError\u001b[0m\u001b[0;34m)\u001b[0m \u001b[0;32mas\u001b[0m \u001b[0me\u001b[0m\u001b[0;34m:\u001b[0m\u001b[0;34m\u001b[0m\u001b[0m\n",
      "\u001b[0;32msrc/lxml/parser.pxi\u001b[0m in \u001b[0;36mlxml.etree._FeedParser.feed (src/lxml/lxml.etree.c:112022)\u001b[0;34m()\u001b[0m\n",
      "\u001b[0;32msrc/lxml/parser.pxi\u001b[0m in \u001b[0;36mlxml.etree._FeedParser.feed (src/lxml/lxml.etree.c:111897)\u001b[0;34m()\u001b[0m\n",
      "\u001b[0;32msrc/lxml/parsertarget.pxi\u001b[0m in \u001b[0;36mlxml.etree._TargetParserContext._handleParseResult (src/lxml/lxml.etree.c:128346)\u001b[0;34m()\u001b[0m\n",
      "\u001b[0;32msrc/lxml/parsertarget.pxi\u001b[0m in \u001b[0;36mlxml.etree._TargetParserContext._handleParseResult (src/lxml/lxml.etree.c:128216)\u001b[0;34m()\u001b[0m\n",
      "\u001b[0;32msrc/lxml/lxml.etree.pyx\u001b[0m in \u001b[0;36mlxml.etree._ExceptionContext._raise_if_stored (src/lxml/lxml.etree.c:10737)\u001b[0;34m()\u001b[0m\n",
      "\u001b[0;32msrc/lxml/saxparser.pxi\u001b[0m in \u001b[0;36mlxml.etree._handleSaxTargetStartNoNs (src/lxml/lxml.etree.c:120885)\u001b[0;34m()\u001b[0m\n",
      "\u001b[0;32msrc/lxml/saxparser.pxi\u001b[0m in \u001b[0;36mlxml.etree._callTargetSaxStart (src/lxml/lxml.etree.c:121079)\u001b[0;34m()\u001b[0m\n",
      "\u001b[0;32msrc/lxml/parsertarget.pxi\u001b[0m in \u001b[0;36mlxml.etree._PythonSaxParserTarget._handleSaxStart (src/lxml/lxml.etree.c:127328)\u001b[0;34m()\u001b[0m\n",
      "\u001b[0;32m//anaconda/lib/python3.5/site-packages/bs4/builder/_lxml.py\u001b[0m in \u001b[0;36mstart\u001b[0;34m(self, name, attrs, nsmap)\u001b[0m\n\u001b[1;32m    170\u001b[0m         \u001b[0mattrs\u001b[0m \u001b[0;34m=\u001b[0m \u001b[0mnew_attrs\u001b[0m\u001b[0;34m\u001b[0m\u001b[0m\n\u001b[1;32m    171\u001b[0m \u001b[0;34m\u001b[0m\u001b[0m\n\u001b[0;32m--> 172\u001b[0;31m         \u001b[0mnamespace\u001b[0m\u001b[0;34m,\u001b[0m \u001b[0mname\u001b[0m \u001b[0;34m=\u001b[0m \u001b[0mself\u001b[0m\u001b[0;34m.\u001b[0m\u001b[0m_getNsTag\u001b[0m\u001b[0;34m(\u001b[0m\u001b[0mname\u001b[0m\u001b[0;34m)\u001b[0m\u001b[0;34m\u001b[0m\u001b[0m\n\u001b[0m\u001b[1;32m    173\u001b[0m         \u001b[0mnsprefix\u001b[0m \u001b[0;34m=\u001b[0m \u001b[0mself\u001b[0m\u001b[0;34m.\u001b[0m\u001b[0m_prefix_for_namespace\u001b[0m\u001b[0;34m(\u001b[0m\u001b[0mnamespace\u001b[0m\u001b[0;34m)\u001b[0m\u001b[0;34m\u001b[0m\u001b[0m\n\u001b[1;32m    174\u001b[0m         \u001b[0mself\u001b[0m\u001b[0;34m.\u001b[0m\u001b[0msoup\u001b[0m\u001b[0;34m.\u001b[0m\u001b[0mhandle_starttag\u001b[0m\u001b[0;34m(\u001b[0m\u001b[0mname\u001b[0m\u001b[0;34m,\u001b[0m \u001b[0mnamespace\u001b[0m\u001b[0;34m,\u001b[0m \u001b[0mnsprefix\u001b[0m\u001b[0;34m,\u001b[0m \u001b[0mattrs\u001b[0m\u001b[0;34m)\u001b[0m\u001b[0;34m\u001b[0m\u001b[0m\n",
      "\u001b[0;31mKeyboardInterrupt\u001b[0m: "
     ]
    }
   ],
   "source": [
    "getLinks('/wiki/becon',0)"
   ]
  },
  {
   "cell_type": "code",
   "execution_count": 203,
   "metadata": {
    "collapsed": false
   },
   "outputs": [
    {
     "data": {
      "text/plain": [
       "649639"
      ]
     },
     "execution_count": 203,
     "metadata": {},
     "output_type": "execute_result"
    }
   ],
   "source": [
    "len(unique_pages)"
   ]
  },
  {
   "cell_type": "code",
   "execution_count": null,
   "metadata": {
    "collapsed": true
   },
   "outputs": [],
   "source": []
  }
 ],
 "metadata": {
  "kernelspec": {
   "display_name": "Python [Root]",
   "language": "python",
   "name": "Python [Root]"
  },
  "language_info": {
   "codemirror_mode": {
    "name": "ipython",
    "version": 3
   },
   "file_extension": ".py",
   "mimetype": "text/x-python",
   "name": "python",
   "nbconvert_exporter": "python",
   "pygments_lexer": "ipython3",
   "version": "3.5.2"
  }
 },
 "nbformat": 4,
 "nbformat_minor": 0
}
